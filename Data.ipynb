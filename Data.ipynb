{
 "cells": [
  {
   "cell_type": "markdown",
   "metadata": {},
   "source": [
    "# Data preprocessing "
   ]
  },
  {
   "cell_type": "markdown",
   "metadata": {},
   "source": [
    "Here we will import the data and process it. This will make it possible to do further analysis later on"
   ]
  },
  {
   "cell_type": "markdown",
   "metadata": {},
   "source": [
    "# Import"
   ]
  },
  {
   "cell_type": "code",
   "execution_count": 4,
   "metadata": {},
   "outputs": [],
   "source": [
    "import pandas as pd\n",
    "from os import listdir\n",
    "from os.path import isfile, join\n",
    "import itertools\n",
    "import numpy as np\n",
    "import warnings"
   ]
  },
  {
   "cell_type": "code",
   "execution_count": 5,
   "metadata": {},
   "outputs": [],
   "source": [
    "warnings.simplefilter('ignore')"
   ]
  },
  {
   "cell_type": "markdown",
   "metadata": {},
   "source": [
    "# Raw data"
   ]
  },
  {
   "cell_type": "markdown",
   "metadata": {},
   "source": [
    "We mined twitter data about the COVID-19 virus from febuary 23 until march 15 using .....py. We also gathered COVID-19 Statistics from...."
   ]
  },
  {
   "cell_type": "markdown",
   "metadata": {},
   "source": [
    "### Mined data"
   ]
  },
  {
   "cell_type": "code",
   "execution_count": 6,
   "metadata": {},
   "outputs": [
    {
     "name": "stdout",
     "output_type": "stream",
     "text": [
      "['output_ALL_01-mar.csv', 'output_ALL_02-mar.csv', 'output_ALL_03-mar.csv', 'output_ALL_04-mar.csv', 'output_ALL_05-mar.csv', 'output_ALL_06-mar.csv', 'output_ALL_07-mar.csv', 'output_ALL_08-mar.csv', 'output_ALL_09-mar.csv', 'output_ALL_10-mar.csv', 'output_ALL_11-mar.csv', 'output_ALL_12-mar.csv', 'output_ALL_13-mar.csv', 'output_ALL_14-mar.csv', 'output_ALL_15-mar.csv', 'output_ALL_23-feb.csv', 'output_ALL_24-feb.csv', 'output_ALL_25-feb.csv', 'output_ALL_26-feb.csv', 'output_ALL_27-feb.csv', 'output_ALL_28-feb.csv', 'output_ALL_29-feb.csv']\n",
      "22\n"
     ]
    }
   ],
   "source": [
    "# get all data files and save them in a list FilenNames\n",
    "Mypath = \"Data/Tweets\"\n",
    "FileNames = [f for f in listdir(Mypath) if isfile(join(Mypath, f))]\n",
    "print(FileNames)\n",
    "# Each day has its own csv file\n",
    "print(len(FileNames))"
   ]
  },
  {
   "cell_type": "code",
   "execution_count": 7,
   "metadata": {},
   "outputs": [
    {
     "data": {
      "text/html": [
       "<div>\n",
       "<style scoped>\n",
       "    .dataframe tbody tr th:only-of-type {\n",
       "        vertical-align: middle;\n",
       "    }\n",
       "\n",
       "    .dataframe tbody tr th {\n",
       "        vertical-align: top;\n",
       "    }\n",
       "\n",
       "    .dataframe thead th {\n",
       "        text-align: right;\n",
       "    }\n",
       "</style>\n",
       "<table border=\"1\" class=\"dataframe\">\n",
       "  <thead>\n",
       "    <tr style=\"text-align: right;\">\n",
       "      <th></th>\n",
       "      <th>username</th>\n",
       "      <th>date</th>\n",
       "      <th>retweets</th>\n",
       "      <th>favorites</th>\n",
       "      <th>text</th>\n",
       "      <th>geo</th>\n",
       "      <th>mentions</th>\n",
       "      <th>hashtags</th>\n",
       "      <th>id</th>\n",
       "      <th>permalink</th>\n",
       "      <th>Unnamed: 10</th>\n",
       "    </tr>\n",
       "  </thead>\n",
       "  <tbody>\n",
       "    <tr>\n",
       "      <td>0</td>\n",
       "      <td>NaN</td>\n",
       "      <td>07/03/2020 23:59</td>\n",
       "      <td>0</td>\n",
       "      <td>3</td>\n",
       "      <td># NRC Dit krantje vergelijkt het # coronavirus...</td>\n",
       "      <td>NaN</td>\n",
       "      <td>NaN</td>\n",
       "      <td># # #</td>\n",
       "      <td>1,24E+18</td>\n",
       "      <td>https://twitter.com/HellingsTony/status/123642...</td>\n",
       "      <td>NaN</td>\n",
       "    </tr>\n",
       "    <tr>\n",
       "      <td>1</td>\n",
       "      <td>NaN</td>\n",
       "      <td>07/03/2020 23:59</td>\n",
       "      <td>0</td>\n",
       "      <td>1</td>\n",
       "      <td>Maar mensen van 10, 20 of 30 jaar zouden toch ...</td>\n",
       "      <td>NaN</td>\n",
       "      <td>NaN</td>\n",
       "      <td>NaN</td>\n",
       "      <td>1,24E+18</td>\n",
       "      <td>https://twitter.com/VrijdenkerRitch/status/123...</td>\n",
       "      <td>NaN</td>\n",
       "    </tr>\n",
       "    <tr>\n",
       "      <td>2</td>\n",
       "      <td>NaN</td>\n",
       "      <td>07/03/2020 23:58</td>\n",
       "      <td>0</td>\n",
       "      <td>5</td>\n",
       "      <td>Wat staat er morgen op de agenda: de nieuwe pe...</td>\n",
       "      <td>NaN</td>\n",
       "      <td>@ @</td>\n",
       "      <td># #</td>\n",
       "      <td>1,24E+18</td>\n",
       "      <td>https://twitter.com/Eliezeryair/status/1236426...</td>\n",
       "      <td>NaN</td>\n",
       "    </tr>\n",
       "    <tr>\n",
       "      <td>3</td>\n",
       "      <td>NaN</td>\n",
       "      <td>07/03/2020 23:58</td>\n",
       "      <td>0</td>\n",
       "      <td>0</td>\n",
       "      <td>Iedereen is hier welkom. Ook het corona virus ...</td>\n",
       "      <td>NaN</td>\n",
       "      <td>NaN</td>\n",
       "      <td>NaN</td>\n",
       "      <td>1,24E+18</td>\n",
       "      <td>https://twitter.com/Anti_S0cialist/status/1236...</td>\n",
       "      <td>NaN</td>\n",
       "    </tr>\n",
       "    <tr>\n",
       "      <td>4</td>\n",
       "      <td>NaN</td>\n",
       "      <td>07/03/2020 23:57</td>\n",
       "      <td>0</td>\n",
       "      <td>2</td>\n",
       "      <td>De vier studenten van de Groningse studentenve...</td>\n",
       "      <td>NaN</td>\n",
       "      <td>NaN</td>\n",
       "      <td>#</td>\n",
       "      <td>1,24E+18</td>\n",
       "      <td>https://twitter.com/Robbedoes1999/status/12364...</td>\n",
       "      <td>NaN</td>\n",
       "    </tr>\n",
       "  </tbody>\n",
       "</table>\n",
       "</div>"
      ],
      "text/plain": [
       "   username              date  retweets  favorites  \\\n",
       "0       NaN  07/03/2020 23:59         0          3   \n",
       "1       NaN  07/03/2020 23:59         0          1   \n",
       "2       NaN  07/03/2020 23:58         0          5   \n",
       "3       NaN  07/03/2020 23:58         0          0   \n",
       "4       NaN  07/03/2020 23:57         0          2   \n",
       "\n",
       "                                                text  geo mentions hashtags  \\\n",
       "0  # NRC Dit krantje vergelijkt het # coronavirus...  NaN      NaN    # # #   \n",
       "1  Maar mensen van 10, 20 of 30 jaar zouden toch ...  NaN      NaN      NaN   \n",
       "2  Wat staat er morgen op de agenda: de nieuwe pe...  NaN      @ @      # #   \n",
       "3  Iedereen is hier welkom. Ook het corona virus ...  NaN      NaN      NaN   \n",
       "4  De vier studenten van de Groningse studentenve...  NaN      NaN        #   \n",
       "\n",
       "         id                                          permalink Unnamed: 10  \n",
       "0  1,24E+18  https://twitter.com/HellingsTony/status/123642...         NaN  \n",
       "1  1,24E+18  https://twitter.com/VrijdenkerRitch/status/123...         NaN  \n",
       "2  1,24E+18  https://twitter.com/Eliezeryair/status/1236426...         NaN  \n",
       "3  1,24E+18  https://twitter.com/Anti_S0cialist/status/1236...         NaN  \n",
       "4  1,24E+18  https://twitter.com/Robbedoes1999/status/12364...         NaN  "
      ]
     },
     "execution_count": 7,
     "metadata": {},
     "output_type": "execute_result"
    }
   ],
   "source": [
    "# DataFrame of all the coronavirus tweets on 27/02/2020\n",
    "feb27 = pd.read_csv(\"Data/Tweets/output_ALL_07-mar.csv\",error_bad_lines=False, sep=';')\n",
    "feb27.head()"
   ]
  },
  {
   "cell_type": "code",
   "execution_count": 8,
   "metadata": {},
   "outputs": [
    {
     "name": "stderr",
     "output_type": "stream",
     "text": [
      "b'Skipping line 2448: expected 10 fields, saw 11\\nSkipping line 3057: expected 10 fields, saw 11\\n'\n",
      "b'Skipping line 4418: expected 10 fields, saw 11\\n'\n",
      "b'Skipping line 4819: expected 10 fields, saw 11\\n'\n",
      "b'Skipping line 4532: expected 10 fields, saw 11\\nSkipping line 6040: expected 10 fields, saw 11\\nSkipping line 6594: expected 10 fields, saw 11\\nSkipping line 6750: expected 10 fields, saw 11\\n'\n",
      "b'Skipping line 1573: expected 10 fields, saw 12\\nSkipping line 2320: expected 10 fields, saw 11\\nSkipping line 6616: expected 10 fields, saw 11\\n'\n",
      "b'Skipping line 858: expected 10 fields, saw 11\\nSkipping line 1094: expected 10 fields, saw 11\\nSkipping line 4910: expected 10 fields, saw 11\\nSkipping line 4965: expected 10 fields, saw 11\\nSkipping line 6911: expected 10 fields, saw 11\\nSkipping line 8897: expected 10 fields, saw 11\\nSkipping line 10038: expected 10 fields, saw 11\\nSkipping line 10093: expected 10 fields, saw 11\\n'\n",
      "b'Skipping line 269: expected 10 fields, saw 11\\nSkipping line 2844: expected 10 fields, saw 11\\n'\n",
      "b'Skipping line 182: expected 10 fields, saw 11\\nSkipping line 1308: expected 10 fields, saw 12\\nSkipping line 3439: expected 10 fields, saw 11\\n'\n",
      "b'Skipping line 478: expected 10 fields, saw 11\\nSkipping line 4604: expected 10 fields, saw 11\\n'\n",
      "b'Skipping line 761: expected 10 fields, saw 11\\nSkipping line 5479: expected 10 fields, saw 11\\nSkipping line 5634: expected 10 fields, saw 11\\n'\n",
      "b'Skipping line 1680: expected 10 fields, saw 11\\nSkipping line 4189: expected 10 fields, saw 11\\n'\n",
      "b'Skipping line 3035: expected 10 fields, saw 11\\n'\n"
     ]
    }
   ],
   "source": [
    "# List with a DataFrame of tweets for each day \n",
    "pdList = [pd.read_csv(Mypath+\"/\"+x,error_bad_lines=False, sep=';') for x in FileNames]"
   ]
  },
  {
   "cell_type": "code",
   "execution_count": 9,
   "metadata": {},
   "outputs": [],
   "source": [
    "# combining DataFrames into one DataFrame containing all tweets\n",
    "AllTweets = pd.concat(pdList, ignore_index=0)"
   ]
  },
  {
   "cell_type": "code",
   "execution_count": 10,
   "metadata": {},
   "outputs": [],
   "source": [
    "# Drop unused columns\n",
    "AllTweets = AllTweets.drop(columns=[\"Unnamed: 10\",\"Unnamed: 11\"])"
   ]
  },
  {
   "cell_type": "code",
   "execution_count": 11,
   "metadata": {
    "scrolled": true
   },
   "outputs": [],
   "source": [
    "AllTweets = AllTweets.reset_index()"
   ]
  },
  {
   "cell_type": "markdown",
   "metadata": {},
   "source": [
    "We mined more then 165,000 tweets"
   ]
  },
  {
   "cell_type": "markdown",
   "metadata": {},
   "source": [
    "#### Save as .csv file"
   ]
  },
  {
   "cell_type": "code",
   "execution_count": 12,
   "metadata": {},
   "outputs": [],
   "source": [
    "# Save dataframe as csv to the Data folder\n",
    "AllTweets.to_csv(\"Data/AllTweets.csv\")"
   ]
  },
  {
   "cell_type": "markdown",
   "metadata": {},
   "source": [
    "### COVID-19 Statistics"
   ]
  },
  {
   "cell_type": "code",
   "execution_count": 77,
   "metadata": {},
   "outputs": [],
   "source": [
    "# confirmed cases deaths and recoveries saved in their own dataframe\n",
    "Cases = pd.read_csv(\"Data/Cases/confirmedCases.csv\").transpose()\n",
    "Cases = Cases.rename(columns=Cases.iloc[0]).drop(Cases.index[0]).reset_index()\n",
    "Death = pd.read_csv(\"Data/Cases/confirmedDeaths.csv\").transpose()\n",
    "Death = Death.rename(columns=Death.iloc[0]).drop(Death.index[0]).reset_index()\n",
    "Recoveries = pd.read_csv(\"Data/Cases/confirmedRecoveries.csv\").transpose() \n",
    "Recoveries = Recoveries.rename(columns=Recoveries.iloc[0]).drop(Recoveries.index[0])"
   ]
  },
  {
   "cell_type": "code",
   "execution_count": 78,
   "metadata": {},
   "outputs": [
    {
     "data": {
      "text/html": [
       "<div>\n",
       "<style scoped>\n",
       "    .dataframe tbody tr th:only-of-type {\n",
       "        vertical-align: middle;\n",
       "    }\n",
       "\n",
       "    .dataframe tbody tr th {\n",
       "        vertical-align: top;\n",
       "    }\n",
       "\n",
       "    .dataframe thead th {\n",
       "        text-align: right;\n",
       "    }\n",
       "</style>\n",
       "<table border=\"1\" class=\"dataframe\">\n",
       "  <thead>\n",
       "    <tr style=\"text-align: right;\">\n",
       "      <th></th>\n",
       "      <th>index</th>\n",
       "      <th>Netherlands</th>\n",
       "      <th>Europe</th>\n",
       "      <th>EU</th>\n",
       "      <th>Non-Europe</th>\n",
       "      <th>Worldwide</th>\n",
       "    </tr>\n",
       "  </thead>\n",
       "  <tbody>\n",
       "    <tr>\n",
       "      <td>0</td>\n",
       "      <td>1/22/20</td>\n",
       "      <td>0</td>\n",
       "      <td>0</td>\n",
       "      <td>0</td>\n",
       "      <td>555</td>\n",
       "      <td>555</td>\n",
       "    </tr>\n",
       "    <tr>\n",
       "      <td>1</td>\n",
       "      <td>1/23/20</td>\n",
       "      <td>0</td>\n",
       "      <td>0</td>\n",
       "      <td>0</td>\n",
       "      <td>653</td>\n",
       "      <td>653</td>\n",
       "    </tr>\n",
       "    <tr>\n",
       "      <td>2</td>\n",
       "      <td>1/24/20</td>\n",
       "      <td>0</td>\n",
       "      <td>2</td>\n",
       "      <td>2</td>\n",
       "      <td>939</td>\n",
       "      <td>941</td>\n",
       "    </tr>\n",
       "    <tr>\n",
       "      <td>3</td>\n",
       "      <td>1/25/20</td>\n",
       "      <td>0</td>\n",
       "      <td>3</td>\n",
       "      <td>3</td>\n",
       "      <td>1431</td>\n",
       "      <td>1434</td>\n",
       "    </tr>\n",
       "    <tr>\n",
       "      <td>4</td>\n",
       "      <td>1/26/20</td>\n",
       "      <td>0</td>\n",
       "      <td>3</td>\n",
       "      <td>3</td>\n",
       "      <td>2115</td>\n",
       "      <td>2118</td>\n",
       "    </tr>\n",
       "  </tbody>\n",
       "</table>\n",
       "</div>"
      ],
      "text/plain": [
       "     index Netherlands Europe EU Non-Europe Worldwide\n",
       "0  1/22/20           0      0  0        555       555\n",
       "1  1/23/20           0      0  0        653       653\n",
       "2  1/24/20           0      2  2        939       941\n",
       "3  1/25/20           0      3  3       1431      1434\n",
       "4  1/26/20           0      3  3       2115      2118"
      ]
     },
     "execution_count": 78,
     "metadata": {},
     "output_type": "execute_result"
    }
   ],
   "source": [
    "Cases.head()"
   ]
  },
  {
   "cell_type": "markdown",
   "metadata": {},
   "source": [
    "# Processing"
   ]
  },
  {
   "cell_type": "markdown",
   "metadata": {},
   "source": [
    "## Counting amount of tweets per hour"
   ]
  },
  {
   "cell_type": "code",
   "execution_count": 79,
   "metadata": {},
   "outputs": [],
   "source": [
    "def TweetCounter(FileName):\n",
    "    \"\"\"\n",
    "    Counts the tweets per hour for the input file and returns a Dataframe with the timestamp and the amount of tweets in that hour\n",
    "    \"\"\"\n",
    "    FolderName = \"Data/Tweets\"\n",
    "    df = pd.read_csv(FolderName+\"/\"+FileName,error_bad_lines=False, sep=';')\n",
    "    output = pd.DataFrame(columns=[\"datetime\",\"coronavirus\"])\n",
    "    df['date'] = pd.to_datetime(df['date'], dayfirst=True)\n",
    "    date = str(df[\"date\"].iloc[-1]).split(\" \")[0]\n",
    "    for Hour in range(24):\n",
    "        tempDF = df[(df[\"date\"].apply(lambda x : x.hour)==Hour)]\n",
    "        time = str(Hour)+\":00:00\"\n",
    "        datetime = date + \" \" + time\n",
    "        output.loc[Hour] = [datetime, tempDF.date.count()]\n",
    "    return output  "
   ]
  },
  {
   "cell_type": "code",
   "execution_count": 80,
   "metadata": {
    "scrolled": true
   },
   "outputs": [
    {
     "data": {
      "text/html": [
       "<div>\n",
       "<style scoped>\n",
       "    .dataframe tbody tr th:only-of-type {\n",
       "        vertical-align: middle;\n",
       "    }\n",
       "\n",
       "    .dataframe tbody tr th {\n",
       "        vertical-align: top;\n",
       "    }\n",
       "\n",
       "    .dataframe thead th {\n",
       "        text-align: right;\n",
       "    }\n",
       "</style>\n",
       "<table border=\"1\" class=\"dataframe\">\n",
       "  <thead>\n",
       "    <tr style=\"text-align: right;\">\n",
       "      <th></th>\n",
       "      <th>datetime</th>\n",
       "      <th>coronavirus</th>\n",
       "    </tr>\n",
       "  </thead>\n",
       "  <tbody>\n",
       "    <tr>\n",
       "      <td>0</td>\n",
       "      <td>2020-03-13 0:00:00</td>\n",
       "      <td>0</td>\n",
       "    </tr>\n",
       "    <tr>\n",
       "      <td>1</td>\n",
       "      <td>2020-03-13 1:00:00</td>\n",
       "      <td>207</td>\n",
       "    </tr>\n",
       "    <tr>\n",
       "      <td>2</td>\n",
       "      <td>2020-03-13 2:00:00</td>\n",
       "      <td>106</td>\n",
       "    </tr>\n",
       "    <tr>\n",
       "      <td>3</td>\n",
       "      <td>2020-03-13 3:00:00</td>\n",
       "      <td>87</td>\n",
       "    </tr>\n",
       "    <tr>\n",
       "      <td>4</td>\n",
       "      <td>2020-03-13 4:00:00</td>\n",
       "      <td>40</td>\n",
       "    </tr>\n",
       "    <tr>\n",
       "      <td>5</td>\n",
       "      <td>2020-03-13 5:00:00</td>\n",
       "      <td>74</td>\n",
       "    </tr>\n",
       "    <tr>\n",
       "      <td>6</td>\n",
       "      <td>2020-03-13 6:00:00</td>\n",
       "      <td>233</td>\n",
       "    </tr>\n",
       "    <tr>\n",
       "      <td>7</td>\n",
       "      <td>2020-03-13 7:00:00</td>\n",
       "      <td>537</td>\n",
       "    </tr>\n",
       "    <tr>\n",
       "      <td>8</td>\n",
       "      <td>2020-03-13 8:00:00</td>\n",
       "      <td>876</td>\n",
       "    </tr>\n",
       "    <tr>\n",
       "      <td>9</td>\n",
       "      <td>2020-03-13 9:00:00</td>\n",
       "      <td>1092</td>\n",
       "    </tr>\n",
       "    <tr>\n",
       "      <td>10</td>\n",
       "      <td>2020-03-13 10:00:00</td>\n",
       "      <td>1242</td>\n",
       "    </tr>\n",
       "    <tr>\n",
       "      <td>11</td>\n",
       "      <td>2020-03-13 11:00:00</td>\n",
       "      <td>1427</td>\n",
       "    </tr>\n",
       "    <tr>\n",
       "      <td>12</td>\n",
       "      <td>2020-03-13 12:00:00</td>\n",
       "      <td>1355</td>\n",
       "    </tr>\n",
       "    <tr>\n",
       "      <td>13</td>\n",
       "      <td>2020-03-13 13:00:00</td>\n",
       "      <td>1315</td>\n",
       "    </tr>\n",
       "    <tr>\n",
       "      <td>14</td>\n",
       "      <td>2020-03-13 14:00:00</td>\n",
       "      <td>1520</td>\n",
       "    </tr>\n",
       "    <tr>\n",
       "      <td>15</td>\n",
       "      <td>2020-03-13 15:00:00</td>\n",
       "      <td>1159</td>\n",
       "    </tr>\n",
       "    <tr>\n",
       "      <td>16</td>\n",
       "      <td>2020-03-13 16:00:00</td>\n",
       "      <td>1185</td>\n",
       "    </tr>\n",
       "    <tr>\n",
       "      <td>17</td>\n",
       "      <td>2020-03-13 17:00:00</td>\n",
       "      <td>1090</td>\n",
       "    </tr>\n",
       "    <tr>\n",
       "      <td>18</td>\n",
       "      <td>2020-03-13 18:00:00</td>\n",
       "      <td>863</td>\n",
       "    </tr>\n",
       "    <tr>\n",
       "      <td>19</td>\n",
       "      <td>2020-03-13 19:00:00</td>\n",
       "      <td>771</td>\n",
       "    </tr>\n",
       "    <tr>\n",
       "      <td>20</td>\n",
       "      <td>2020-03-13 20:00:00</td>\n",
       "      <td>908</td>\n",
       "    </tr>\n",
       "    <tr>\n",
       "      <td>21</td>\n",
       "      <td>2020-03-13 21:00:00</td>\n",
       "      <td>775</td>\n",
       "    </tr>\n",
       "    <tr>\n",
       "      <td>22</td>\n",
       "      <td>2020-03-13 22:00:00</td>\n",
       "      <td>583</td>\n",
       "    </tr>\n",
       "    <tr>\n",
       "      <td>23</td>\n",
       "      <td>2020-03-13 23:00:00</td>\n",
       "      <td>514</td>\n",
       "    </tr>\n",
       "  </tbody>\n",
       "</table>\n",
       "</div>"
      ],
      "text/plain": [
       "               datetime coronavirus\n",
       "0    2020-03-13 0:00:00           0\n",
       "1    2020-03-13 1:00:00         207\n",
       "2    2020-03-13 2:00:00         106\n",
       "3    2020-03-13 3:00:00          87\n",
       "4    2020-03-13 4:00:00          40\n",
       "5    2020-03-13 5:00:00          74\n",
       "6    2020-03-13 6:00:00         233\n",
       "7    2020-03-13 7:00:00         537\n",
       "8    2020-03-13 8:00:00         876\n",
       "9    2020-03-13 9:00:00        1092\n",
       "10  2020-03-13 10:00:00        1242\n",
       "11  2020-03-13 11:00:00        1427\n",
       "12  2020-03-13 12:00:00        1355\n",
       "13  2020-03-13 13:00:00        1315\n",
       "14  2020-03-13 14:00:00        1520\n",
       "15  2020-03-13 15:00:00        1159\n",
       "16  2020-03-13 16:00:00        1185\n",
       "17  2020-03-13 17:00:00        1090\n",
       "18  2020-03-13 18:00:00         863\n",
       "19  2020-03-13 19:00:00         771\n",
       "20  2020-03-13 20:00:00         908\n",
       "21  2020-03-13 21:00:00         775\n",
       "22  2020-03-13 22:00:00         583\n",
       "23  2020-03-13 23:00:00         514"
      ]
     },
     "execution_count": 80,
     "metadata": {},
     "output_type": "execute_result"
    }
   ],
   "source": [
    "TweetCounter(\"output_ALL_13-mar.csv\")"
   ]
  },
  {
   "cell_type": "markdown",
   "metadata": {},
   "source": [
    "#### Save as .csv file"
   ]
  },
  {
   "cell_type": "code",
   "execution_count": 81,
   "metadata": {},
   "outputs": [
    {
     "name": "stderr",
     "output_type": "stream",
     "text": [
      "b'Skipping line 2448: expected 10 fields, saw 11\\nSkipping line 3057: expected 10 fields, saw 11\\n'\n",
      "b'Skipping line 4418: expected 10 fields, saw 11\\n'\n",
      "b'Skipping line 4819: expected 10 fields, saw 11\\n'\n",
      "b'Skipping line 4532: expected 10 fields, saw 11\\nSkipping line 6040: expected 10 fields, saw 11\\nSkipping line 6594: expected 10 fields, saw 11\\nSkipping line 6750: expected 10 fields, saw 11\\n'\n",
      "b'Skipping line 1573: expected 10 fields, saw 12\\nSkipping line 2320: expected 10 fields, saw 11\\nSkipping line 6616: expected 10 fields, saw 11\\n'\n",
      "b'Skipping line 858: expected 10 fields, saw 11\\nSkipping line 1094: expected 10 fields, saw 11\\nSkipping line 4910: expected 10 fields, saw 11\\nSkipping line 4965: expected 10 fields, saw 11\\nSkipping line 6911: expected 10 fields, saw 11\\nSkipping line 8897: expected 10 fields, saw 11\\nSkipping line 10038: expected 10 fields, saw 11\\nSkipping line 10093: expected 10 fields, saw 11\\n'\n",
      "b'Skipping line 269: expected 10 fields, saw 11\\nSkipping line 2844: expected 10 fields, saw 11\\n'\n",
      "b'Skipping line 182: expected 10 fields, saw 11\\nSkipping line 1308: expected 10 fields, saw 12\\nSkipping line 3439: expected 10 fields, saw 11\\n'\n",
      "b'Skipping line 478: expected 10 fields, saw 11\\nSkipping line 4604: expected 10 fields, saw 11\\n'\n",
      "b'Skipping line 761: expected 10 fields, saw 11\\nSkipping line 5479: expected 10 fields, saw 11\\nSkipping line 5634: expected 10 fields, saw 11\\n'\n",
      "b'Skipping line 1680: expected 10 fields, saw 11\\nSkipping line 4189: expected 10 fields, saw 11\\n'\n",
      "b'Skipping line 3035: expected 10 fields, saw 11\\n'\n"
     ]
    }
   ],
   "source": [
    "# Save the tweets per hour dataframes as csv files in the Data/PerHour folder\n",
    "for file in FileNames:\n",
    "    fd2 = TweetCounter(file)\n",
    "    fd2.to_csv(\"Data/PerHour/\"+file)"
   ]
  },
  {
   "cell_type": "markdown",
   "metadata": {},
   "source": [
    "### Combining data"
   ]
  },
  {
   "cell_type": "code",
   "execution_count": 82,
   "metadata": {},
   "outputs": [],
   "source": [
    "# get data saved in the per hour format from Data/PerHour and combines it into one DataFrame\n",
    "Mypath = \"Data/PerHour\"\n",
    "FileNames = [f for f in listdir(Mypath) if isfile(join(Mypath, f))]\n",
    "pdList = [pd.read_csv(Mypath+\"/\"+x,error_bad_lines=False, index_col=0) for x in FileNames]\n",
    "TwitterCovPerHour = pdList[0]\n",
    "for x in range(1,len(pdList)):\n",
    "    TwitterCovPerHour = TwitterCovPerHour.merge(pdList[x], how=\"outer\")"
   ]
  },
  {
   "cell_type": "code",
   "execution_count": 83,
   "metadata": {},
   "outputs": [
    {
     "data": {
      "text/html": [
       "<div>\n",
       "<style scoped>\n",
       "    .dataframe tbody tr th:only-of-type {\n",
       "        vertical-align: middle;\n",
       "    }\n",
       "\n",
       "    .dataframe tbody tr th {\n",
       "        vertical-align: top;\n",
       "    }\n",
       "\n",
       "    .dataframe thead th {\n",
       "        text-align: right;\n",
       "    }\n",
       "</style>\n",
       "<table border=\"1\" class=\"dataframe\">\n",
       "  <thead>\n",
       "    <tr style=\"text-align: right;\">\n",
       "      <th></th>\n",
       "      <th>datetime</th>\n",
       "      <th>coronavirus</th>\n",
       "    </tr>\n",
       "  </thead>\n",
       "  <tbody>\n",
       "    <tr>\n",
       "      <td>0</td>\n",
       "      <td>2020-03-01 0:00:00</td>\n",
       "      <td>76</td>\n",
       "    </tr>\n",
       "    <tr>\n",
       "      <td>1</td>\n",
       "      <td>2020-03-01 1:00:00</td>\n",
       "      <td>46</td>\n",
       "    </tr>\n",
       "    <tr>\n",
       "      <td>2</td>\n",
       "      <td>2020-03-01 2:00:00</td>\n",
       "      <td>31</td>\n",
       "    </tr>\n",
       "    <tr>\n",
       "      <td>3</td>\n",
       "      <td>2020-03-01 3:00:00</td>\n",
       "      <td>21</td>\n",
       "    </tr>\n",
       "    <tr>\n",
       "      <td>4</td>\n",
       "      <td>2020-03-01 4:00:00</td>\n",
       "      <td>16</td>\n",
       "    </tr>\n",
       "    <tr>\n",
       "      <td>...</td>\n",
       "      <td>...</td>\n",
       "      <td>...</td>\n",
       "    </tr>\n",
       "    <tr>\n",
       "      <td>523</td>\n",
       "      <td>2020-02-29 19:00:00</td>\n",
       "      <td>223</td>\n",
       "    </tr>\n",
       "    <tr>\n",
       "      <td>524</td>\n",
       "      <td>2020-02-29 20:00:00</td>\n",
       "      <td>121</td>\n",
       "    </tr>\n",
       "    <tr>\n",
       "      <td>525</td>\n",
       "      <td>2020-02-29 21:00:00</td>\n",
       "      <td>216</td>\n",
       "    </tr>\n",
       "    <tr>\n",
       "      <td>526</td>\n",
       "      <td>2020-02-29 22:00:00</td>\n",
       "      <td>250</td>\n",
       "    </tr>\n",
       "    <tr>\n",
       "      <td>527</td>\n",
       "      <td>2020-02-29 23:00:00</td>\n",
       "      <td>152</td>\n",
       "    </tr>\n",
       "  </tbody>\n",
       "</table>\n",
       "<p>528 rows × 2 columns</p>\n",
       "</div>"
      ],
      "text/plain": [
       "                datetime  coronavirus\n",
       "0     2020-03-01 0:00:00           76\n",
       "1     2020-03-01 1:00:00           46\n",
       "2     2020-03-01 2:00:00           31\n",
       "3     2020-03-01 3:00:00           21\n",
       "4     2020-03-01 4:00:00           16\n",
       "..                   ...          ...\n",
       "523  2020-02-29 19:00:00          223\n",
       "524  2020-02-29 20:00:00          121\n",
       "525  2020-02-29 21:00:00          216\n",
       "526  2020-02-29 22:00:00          250\n",
       "527  2020-02-29 23:00:00          152\n",
       "\n",
       "[528 rows x 2 columns]"
      ]
     },
     "execution_count": 83,
     "metadata": {},
     "output_type": "execute_result"
    }
   ],
   "source": [
    "TwitterCovPerHour"
   ]
  },
  {
   "cell_type": "markdown",
   "metadata": {},
   "source": [
    "### Splitting columns"
   ]
  },
  {
   "cell_type": "code",
   "execution_count": 84,
   "metadata": {},
   "outputs": [],
   "source": [
    "# Splitting the datetime collum into two new colums one with the date and one with the time \n",
    "# and also keeping the original datetime column\n",
    "new = TwitterCovPerHour[\"datetime\"].str.split(\" \", n=1, expand = True)\n",
    "TwitterCovPerHour[\"datetime\"] = TwitterCovPerHour[\"datetime\"]\n",
    "TwitterCovPerHour[\"Date\"] = new[0]\n",
    "TwitterCovPerHour[\"Time\"] = new[1]\n",
    "TwitterCovPerHour\n",
    "TwitterCovPerHour[\"datetime\"] = pd.to_datetime(TwitterCovPerHour[\"datetime\"], dayfirst=True )"
   ]
  },
  {
   "cell_type": "code",
   "execution_count": 85,
   "metadata": {},
   "outputs": [
    {
     "data": {
      "text/html": [
       "<div>\n",
       "<style scoped>\n",
       "    .dataframe tbody tr th:only-of-type {\n",
       "        vertical-align: middle;\n",
       "    }\n",
       "\n",
       "    .dataframe tbody tr th {\n",
       "        vertical-align: top;\n",
       "    }\n",
       "\n",
       "    .dataframe thead th {\n",
       "        text-align: right;\n",
       "    }\n",
       "</style>\n",
       "<table border=\"1\" class=\"dataframe\">\n",
       "  <thead>\n",
       "    <tr style=\"text-align: right;\">\n",
       "      <th></th>\n",
       "      <th>datetime</th>\n",
       "      <th>coronavirus</th>\n",
       "      <th>Date</th>\n",
       "      <th>Time</th>\n",
       "    </tr>\n",
       "  </thead>\n",
       "  <tbody>\n",
       "    <tr>\n",
       "      <td>0</td>\n",
       "      <td>2020-03-01 00:00:00</td>\n",
       "      <td>76</td>\n",
       "      <td>2020-03-01</td>\n",
       "      <td>0:00:00</td>\n",
       "    </tr>\n",
       "    <tr>\n",
       "      <td>1</td>\n",
       "      <td>2020-03-01 01:00:00</td>\n",
       "      <td>46</td>\n",
       "      <td>2020-03-01</td>\n",
       "      <td>1:00:00</td>\n",
       "    </tr>\n",
       "    <tr>\n",
       "      <td>2</td>\n",
       "      <td>2020-03-01 02:00:00</td>\n",
       "      <td>31</td>\n",
       "      <td>2020-03-01</td>\n",
       "      <td>2:00:00</td>\n",
       "    </tr>\n",
       "    <tr>\n",
       "      <td>3</td>\n",
       "      <td>2020-03-01 03:00:00</td>\n",
       "      <td>21</td>\n",
       "      <td>2020-03-01</td>\n",
       "      <td>3:00:00</td>\n",
       "    </tr>\n",
       "    <tr>\n",
       "      <td>4</td>\n",
       "      <td>2020-03-01 04:00:00</td>\n",
       "      <td>16</td>\n",
       "      <td>2020-03-01</td>\n",
       "      <td>4:00:00</td>\n",
       "    </tr>\n",
       "    <tr>\n",
       "      <td>...</td>\n",
       "      <td>...</td>\n",
       "      <td>...</td>\n",
       "      <td>...</td>\n",
       "      <td>...</td>\n",
       "    </tr>\n",
       "    <tr>\n",
       "      <td>523</td>\n",
       "      <td>2020-02-29 19:00:00</td>\n",
       "      <td>223</td>\n",
       "      <td>2020-02-29</td>\n",
       "      <td>19:00:00</td>\n",
       "    </tr>\n",
       "    <tr>\n",
       "      <td>524</td>\n",
       "      <td>2020-02-29 20:00:00</td>\n",
       "      <td>121</td>\n",
       "      <td>2020-02-29</td>\n",
       "      <td>20:00:00</td>\n",
       "    </tr>\n",
       "    <tr>\n",
       "      <td>525</td>\n",
       "      <td>2020-02-29 21:00:00</td>\n",
       "      <td>216</td>\n",
       "      <td>2020-02-29</td>\n",
       "      <td>21:00:00</td>\n",
       "    </tr>\n",
       "    <tr>\n",
       "      <td>526</td>\n",
       "      <td>2020-02-29 22:00:00</td>\n",
       "      <td>250</td>\n",
       "      <td>2020-02-29</td>\n",
       "      <td>22:00:00</td>\n",
       "    </tr>\n",
       "    <tr>\n",
       "      <td>527</td>\n",
       "      <td>2020-02-29 23:00:00</td>\n",
       "      <td>152</td>\n",
       "      <td>2020-02-29</td>\n",
       "      <td>23:00:00</td>\n",
       "    </tr>\n",
       "  </tbody>\n",
       "</table>\n",
       "<p>528 rows × 4 columns</p>\n",
       "</div>"
      ],
      "text/plain": [
       "               datetime  coronavirus        Date      Time\n",
       "0   2020-03-01 00:00:00           76  2020-03-01   0:00:00\n",
       "1   2020-03-01 01:00:00           46  2020-03-01   1:00:00\n",
       "2   2020-03-01 02:00:00           31  2020-03-01   2:00:00\n",
       "3   2020-03-01 03:00:00           21  2020-03-01   3:00:00\n",
       "4   2020-03-01 04:00:00           16  2020-03-01   4:00:00\n",
       "..                  ...          ...         ...       ...\n",
       "523 2020-02-29 19:00:00          223  2020-02-29  19:00:00\n",
       "524 2020-02-29 20:00:00          121  2020-02-29  20:00:00\n",
       "525 2020-02-29 21:00:00          216  2020-02-29  21:00:00\n",
       "526 2020-02-29 22:00:00          250  2020-02-29  22:00:00\n",
       "527 2020-02-29 23:00:00          152  2020-02-29  23:00:00\n",
       "\n",
       "[528 rows x 4 columns]"
      ]
     },
     "execution_count": 85,
     "metadata": {},
     "output_type": "execute_result"
    }
   ],
   "source": [
    "TwitterCovPerHour"
   ]
  },
  {
   "cell_type": "markdown",
   "metadata": {},
   "source": [
    "### Sorting dataframe by datetime"
   ]
  },
  {
   "cell_type": "code",
   "execution_count": 86,
   "metadata": {},
   "outputs": [],
   "source": [
    "TwitterCovPerHour = TwitterCovPerHour.sort_values(by=\"datetime\", ascending=True)\n",
    "TwitterCovPerHour = TwitterCovPerHour.reset_index(drop=True)"
   ]
  },
  {
   "cell_type": "code",
   "execution_count": 87,
   "metadata": {},
   "outputs": [
    {
     "data": {
      "text/html": [
       "<div>\n",
       "<style scoped>\n",
       "    .dataframe tbody tr th:only-of-type {\n",
       "        vertical-align: middle;\n",
       "    }\n",
       "\n",
       "    .dataframe tbody tr th {\n",
       "        vertical-align: top;\n",
       "    }\n",
       "\n",
       "    .dataframe thead th {\n",
       "        text-align: right;\n",
       "    }\n",
       "</style>\n",
       "<table border=\"1\" class=\"dataframe\">\n",
       "  <thead>\n",
       "    <tr style=\"text-align: right;\">\n",
       "      <th></th>\n",
       "      <th>datetime</th>\n",
       "      <th>coronavirus</th>\n",
       "      <th>Date</th>\n",
       "      <th>Time</th>\n",
       "    </tr>\n",
       "  </thead>\n",
       "  <tbody>\n",
       "    <tr>\n",
       "      <td>0</td>\n",
       "      <td>2020-02-23 00:00:00</td>\n",
       "      <td>54</td>\n",
       "      <td>2020-02-23</td>\n",
       "      <td>0:00:00</td>\n",
       "    </tr>\n",
       "    <tr>\n",
       "      <td>1</td>\n",
       "      <td>2020-02-23 01:00:00</td>\n",
       "      <td>21</td>\n",
       "      <td>2020-02-23</td>\n",
       "      <td>1:00:00</td>\n",
       "    </tr>\n",
       "    <tr>\n",
       "      <td>2</td>\n",
       "      <td>2020-02-23 02:00:00</td>\n",
       "      <td>12</td>\n",
       "      <td>2020-02-23</td>\n",
       "      <td>2:00:00</td>\n",
       "    </tr>\n",
       "    <tr>\n",
       "      <td>3</td>\n",
       "      <td>2020-02-23 03:00:00</td>\n",
       "      <td>11</td>\n",
       "      <td>2020-02-23</td>\n",
       "      <td>3:00:00</td>\n",
       "    </tr>\n",
       "    <tr>\n",
       "      <td>4</td>\n",
       "      <td>2020-02-23 04:00:00</td>\n",
       "      <td>10</td>\n",
       "      <td>2020-02-23</td>\n",
       "      <td>4:00:00</td>\n",
       "    </tr>\n",
       "    <tr>\n",
       "      <td>...</td>\n",
       "      <td>...</td>\n",
       "      <td>...</td>\n",
       "      <td>...</td>\n",
       "      <td>...</td>\n",
       "    </tr>\n",
       "    <tr>\n",
       "      <td>523</td>\n",
       "      <td>2020-03-15 19:00:00</td>\n",
       "      <td>1178</td>\n",
       "      <td>2020-03-15</td>\n",
       "      <td>19:00:00</td>\n",
       "    </tr>\n",
       "    <tr>\n",
       "      <td>524</td>\n",
       "      <td>2020-03-15 20:00:00</td>\n",
       "      <td>981</td>\n",
       "      <td>2020-03-15</td>\n",
       "      <td>20:00:00</td>\n",
       "    </tr>\n",
       "    <tr>\n",
       "      <td>525</td>\n",
       "      <td>2020-03-15 21:00:00</td>\n",
       "      <td>738</td>\n",
       "      <td>2020-03-15</td>\n",
       "      <td>21:00:00</td>\n",
       "    </tr>\n",
       "    <tr>\n",
       "      <td>526</td>\n",
       "      <td>2020-03-15 22:00:00</td>\n",
       "      <td>749</td>\n",
       "      <td>2020-03-15</td>\n",
       "      <td>22:00:00</td>\n",
       "    </tr>\n",
       "    <tr>\n",
       "      <td>527</td>\n",
       "      <td>2020-03-15 23:00:00</td>\n",
       "      <td>525</td>\n",
       "      <td>2020-03-15</td>\n",
       "      <td>23:00:00</td>\n",
       "    </tr>\n",
       "  </tbody>\n",
       "</table>\n",
       "<p>528 rows × 4 columns</p>\n",
       "</div>"
      ],
      "text/plain": [
       "               datetime  coronavirus        Date      Time\n",
       "0   2020-02-23 00:00:00           54  2020-02-23   0:00:00\n",
       "1   2020-02-23 01:00:00           21  2020-02-23   1:00:00\n",
       "2   2020-02-23 02:00:00           12  2020-02-23   2:00:00\n",
       "3   2020-02-23 03:00:00           11  2020-02-23   3:00:00\n",
       "4   2020-02-23 04:00:00           10  2020-02-23   4:00:00\n",
       "..                  ...          ...         ...       ...\n",
       "523 2020-03-15 19:00:00         1178  2020-03-15  19:00:00\n",
       "524 2020-03-15 20:00:00          981  2020-03-15  20:00:00\n",
       "525 2020-03-15 21:00:00          738  2020-03-15  21:00:00\n",
       "526 2020-03-15 22:00:00          749  2020-03-15  22:00:00\n",
       "527 2020-03-15 23:00:00          525  2020-03-15  23:00:00\n",
       "\n",
       "[528 rows x 4 columns]"
      ]
     },
     "execution_count": 87,
     "metadata": {},
     "output_type": "execute_result"
    }
   ],
   "source": [
    "TwitterCovPerHour"
   ]
  },
  {
   "cell_type": "markdown",
   "metadata": {},
   "source": [
    "### Cumulative of the amount of tweets per hour"
   ]
  },
  {
   "cell_type": "code",
   "execution_count": 88,
   "metadata": {},
   "outputs": [],
   "source": [
    "# Adding an extra column containing the cumulative of the amount of tweets\n",
    "TwitterCovPerHour[\"CumSum\"] = TwitterCovPerHour.coronavirus.cumsum(axis=None, skipna=True)"
   ]
  },
  {
   "cell_type": "code",
   "execution_count": 89,
   "metadata": {
    "scrolled": true
   },
   "outputs": [
    {
     "data": {
      "text/html": [
       "<div>\n",
       "<style scoped>\n",
       "    .dataframe tbody tr th:only-of-type {\n",
       "        vertical-align: middle;\n",
       "    }\n",
       "\n",
       "    .dataframe tbody tr th {\n",
       "        vertical-align: top;\n",
       "    }\n",
       "\n",
       "    .dataframe thead th {\n",
       "        text-align: right;\n",
       "    }\n",
       "</style>\n",
       "<table border=\"1\" class=\"dataframe\">\n",
       "  <thead>\n",
       "    <tr style=\"text-align: right;\">\n",
       "      <th></th>\n",
       "      <th>datetime</th>\n",
       "      <th>coronavirus</th>\n",
       "      <th>Date</th>\n",
       "      <th>Time</th>\n",
       "      <th>CumSum</th>\n",
       "    </tr>\n",
       "  </thead>\n",
       "  <tbody>\n",
       "    <tr>\n",
       "      <td>0</td>\n",
       "      <td>2020-02-23 00:00:00</td>\n",
       "      <td>54</td>\n",
       "      <td>2020-02-23</td>\n",
       "      <td>0:00:00</td>\n",
       "      <td>54</td>\n",
       "    </tr>\n",
       "    <tr>\n",
       "      <td>1</td>\n",
       "      <td>2020-02-23 01:00:00</td>\n",
       "      <td>21</td>\n",
       "      <td>2020-02-23</td>\n",
       "      <td>1:00:00</td>\n",
       "      <td>75</td>\n",
       "    </tr>\n",
       "    <tr>\n",
       "      <td>2</td>\n",
       "      <td>2020-02-23 02:00:00</td>\n",
       "      <td>12</td>\n",
       "      <td>2020-02-23</td>\n",
       "      <td>2:00:00</td>\n",
       "      <td>87</td>\n",
       "    </tr>\n",
       "    <tr>\n",
       "      <td>3</td>\n",
       "      <td>2020-02-23 03:00:00</td>\n",
       "      <td>11</td>\n",
       "      <td>2020-02-23</td>\n",
       "      <td>3:00:00</td>\n",
       "      <td>98</td>\n",
       "    </tr>\n",
       "    <tr>\n",
       "      <td>4</td>\n",
       "      <td>2020-02-23 04:00:00</td>\n",
       "      <td>10</td>\n",
       "      <td>2020-02-23</td>\n",
       "      <td>4:00:00</td>\n",
       "      <td>108</td>\n",
       "    </tr>\n",
       "  </tbody>\n",
       "</table>\n",
       "</div>"
      ],
      "text/plain": [
       "             datetime  coronavirus        Date     Time  CumSum\n",
       "0 2020-02-23 00:00:00           54  2020-02-23  0:00:00      54\n",
       "1 2020-02-23 01:00:00           21  2020-02-23  1:00:00      75\n",
       "2 2020-02-23 02:00:00           12  2020-02-23  2:00:00      87\n",
       "3 2020-02-23 03:00:00           11  2020-02-23  3:00:00      98\n",
       "4 2020-02-23 04:00:00           10  2020-02-23  4:00:00     108"
      ]
     },
     "execution_count": 89,
     "metadata": {},
     "output_type": "execute_result"
    }
   ],
   "source": [
    "TwitterCovPerHour.head()"
   ]
  },
  {
   "cell_type": "markdown",
   "metadata": {},
   "source": [
    "#### Save as csv file"
   ]
  },
  {
   "cell_type": "code",
   "execution_count": 90,
   "metadata": {},
   "outputs": [],
   "source": [
    "TwitterCovPerHour.to_csv(\"Data/CoronaTweetsPerHour.csv\")"
   ]
  },
  {
   "cell_type": "markdown",
   "metadata": {},
   "source": [
    "## Counting amount of tweets per day"
   ]
  },
  {
   "cell_type": "code",
   "execution_count": 91,
   "metadata": {},
   "outputs": [],
   "source": [
    "def PerDay(DataFrame):\n",
    "    \"\"\"\n",
    "    Takes the amount of tweets per hour dataframe and turns it into the amount per day dataframe\n",
    "    \"\"\"\n",
    "    output = pd.DataFrame(columns=[\"date\", \"tweets\"])\n",
    "    Dates = DataFrame[\"Date\"].unique()\n",
    "    for x in range(len(Dates)):\n",
    "        TotTweets = sum(DataFrame[\"coronavirus\"][DataFrame[\"Date\"]== Dates[x]])\n",
    "        output.loc[x] = [Dates[x], TotTweets]\n",
    "        \n",
    "    return output"
   ]
  },
  {
   "cell_type": "code",
   "execution_count": 92,
   "metadata": {},
   "outputs": [],
   "source": [
    "TwitterCovPerDay = PerDay(TwitterCovPerHour)"
   ]
  },
  {
   "cell_type": "code",
   "execution_count": 93,
   "metadata": {},
   "outputs": [
    {
     "data": {
      "text/html": [
       "<div>\n",
       "<style scoped>\n",
       "    .dataframe tbody tr th:only-of-type {\n",
       "        vertical-align: middle;\n",
       "    }\n",
       "\n",
       "    .dataframe tbody tr th {\n",
       "        vertical-align: top;\n",
       "    }\n",
       "\n",
       "    .dataframe thead th {\n",
       "        text-align: right;\n",
       "    }\n",
       "</style>\n",
       "<table border=\"1\" class=\"dataframe\">\n",
       "  <thead>\n",
       "    <tr style=\"text-align: right;\">\n",
       "      <th></th>\n",
       "      <th>date</th>\n",
       "      <th>tweets</th>\n",
       "    </tr>\n",
       "  </thead>\n",
       "  <tbody>\n",
       "    <tr>\n",
       "      <td>0</td>\n",
       "      <td>2020-02-23</td>\n",
       "      <td>1471</td>\n",
       "    </tr>\n",
       "    <tr>\n",
       "      <td>1</td>\n",
       "      <td>2020-02-24</td>\n",
       "      <td>3121</td>\n",
       "    </tr>\n",
       "    <tr>\n",
       "      <td>2</td>\n",
       "      <td>2020-02-25</td>\n",
       "      <td>3479</td>\n",
       "    </tr>\n",
       "    <tr>\n",
       "      <td>3</td>\n",
       "      <td>2020-02-26</td>\n",
       "      <td>4831</td>\n",
       "    </tr>\n",
       "    <tr>\n",
       "      <td>4</td>\n",
       "      <td>2020-02-27</td>\n",
       "      <td>7122</td>\n",
       "    </tr>\n",
       "  </tbody>\n",
       "</table>\n",
       "</div>"
      ],
      "text/plain": [
       "         date tweets\n",
       "0  2020-02-23   1471\n",
       "1  2020-02-24   3121\n",
       "2  2020-02-25   3479\n",
       "3  2020-02-26   4831\n",
       "4  2020-02-27   7122"
      ]
     },
     "execution_count": 93,
     "metadata": {},
     "output_type": "execute_result"
    }
   ],
   "source": [
    "TwitterCovPerDay.head()"
   ]
  },
  {
   "cell_type": "markdown",
   "metadata": {},
   "source": [
    "### Cumulative of the amount of tweets per day"
   ]
  },
  {
   "cell_type": "code",
   "execution_count": 94,
   "metadata": {},
   "outputs": [],
   "source": [
    "# Adding an extra column containing the cumulative of the amount of tweets per day\n",
    "TwitterCovPerDay[\"CumSum\"] = TwitterCovPerDay.tweets.cumsum(axis=None, skipna=True)"
   ]
  },
  {
   "cell_type": "code",
   "execution_count": 95,
   "metadata": {},
   "outputs": [
    {
     "data": {
      "text/html": [
       "<div>\n",
       "<style scoped>\n",
       "    .dataframe tbody tr th:only-of-type {\n",
       "        vertical-align: middle;\n",
       "    }\n",
       "\n",
       "    .dataframe tbody tr th {\n",
       "        vertical-align: top;\n",
       "    }\n",
       "\n",
       "    .dataframe thead th {\n",
       "        text-align: right;\n",
       "    }\n",
       "</style>\n",
       "<table border=\"1\" class=\"dataframe\">\n",
       "  <thead>\n",
       "    <tr style=\"text-align: right;\">\n",
       "      <th></th>\n",
       "      <th>date</th>\n",
       "      <th>tweets</th>\n",
       "      <th>CumSum</th>\n",
       "    </tr>\n",
       "  </thead>\n",
       "  <tbody>\n",
       "    <tr>\n",
       "      <td>0</td>\n",
       "      <td>2020-02-23</td>\n",
       "      <td>1471</td>\n",
       "      <td>1471</td>\n",
       "    </tr>\n",
       "    <tr>\n",
       "      <td>1</td>\n",
       "      <td>2020-02-24</td>\n",
       "      <td>3121</td>\n",
       "      <td>4592</td>\n",
       "    </tr>\n",
       "    <tr>\n",
       "      <td>2</td>\n",
       "      <td>2020-02-25</td>\n",
       "      <td>3479</td>\n",
       "      <td>8071</td>\n",
       "    </tr>\n",
       "    <tr>\n",
       "      <td>3</td>\n",
       "      <td>2020-02-26</td>\n",
       "      <td>4831</td>\n",
       "      <td>12902</td>\n",
       "    </tr>\n",
       "    <tr>\n",
       "      <td>4</td>\n",
       "      <td>2020-02-27</td>\n",
       "      <td>7122</td>\n",
       "      <td>20024</td>\n",
       "    </tr>\n",
       "  </tbody>\n",
       "</table>\n",
       "</div>"
      ],
      "text/plain": [
       "         date tweets CumSum\n",
       "0  2020-02-23   1471   1471\n",
       "1  2020-02-24   3121   4592\n",
       "2  2020-02-25   3479   8071\n",
       "3  2020-02-26   4831  12902\n",
       "4  2020-02-27   7122  20024"
      ]
     },
     "execution_count": 95,
     "metadata": {},
     "output_type": "execute_result"
    }
   ],
   "source": [
    "TwitterCovPerDay.head()"
   ]
  },
  {
   "cell_type": "markdown",
   "metadata": {},
   "source": [
    "#### Save as csv file"
   ]
  },
  {
   "cell_type": "code",
   "execution_count": 96,
   "metadata": {},
   "outputs": [],
   "source": [
    "TwitterCovPerDay.to_csv(\"Data/CoronaTweetsPerDay.csv\")"
   ]
  },
  {
   "cell_type": "markdown",
   "metadata": {},
   "source": [
    "## Normalize data"
   ]
  },
  {
   "cell_type": "code",
   "execution_count": 97,
   "metadata": {},
   "outputs": [],
   "source": [
    "def normalize(df):\n",
    "    \"\"\"\n",
    "    Normalize columns in dataframe and returns a dataframe\n",
    "    \"\"\"\n",
    "    result = df.copy()\n",
    "    for feature_name in df.columns[1:]:\n",
    "        max_value = int(df[feature_name].max())\n",
    "        min_value = int(df[feature_name].min())\n",
    "        result[feature_name] = (df[feature_name] - min_value) / (max_value - min_value)\n",
    "    return result"
   ]
  },
  {
   "cell_type": "markdown",
   "metadata": {},
   "source": [
    "### Normalize tweets per day"
   ]
  },
  {
   "cell_type": "code",
   "execution_count": 98,
   "metadata": {},
   "outputs": [],
   "source": [
    "NormalizedDFPerDay = normalize(TwitterCovPerDay)"
   ]
  },
  {
   "cell_type": "code",
   "execution_count": 99,
   "metadata": {},
   "outputs": [
    {
     "data": {
      "text/html": [
       "<div>\n",
       "<style scoped>\n",
       "    .dataframe tbody tr th:only-of-type {\n",
       "        vertical-align: middle;\n",
       "    }\n",
       "\n",
       "    .dataframe tbody tr th {\n",
       "        vertical-align: top;\n",
       "    }\n",
       "\n",
       "    .dataframe thead th {\n",
       "        text-align: right;\n",
       "    }\n",
       "</style>\n",
       "<table border=\"1\" class=\"dataframe\">\n",
       "  <thead>\n",
       "    <tr style=\"text-align: right;\">\n",
       "      <th></th>\n",
       "      <th>date</th>\n",
       "      <th>tweets</th>\n",
       "      <th>CumSum</th>\n",
       "    </tr>\n",
       "  </thead>\n",
       "  <tbody>\n",
       "    <tr>\n",
       "      <td>17</td>\n",
       "      <td>2020-03-11</td>\n",
       "      <td>0.469868</td>\n",
       "      <td>0.58643</td>\n",
       "    </tr>\n",
       "    <tr>\n",
       "      <td>18</td>\n",
       "      <td>2020-03-12</td>\n",
       "      <td>1</td>\n",
       "      <td>0.70908</td>\n",
       "    </tr>\n",
       "    <tr>\n",
       "      <td>19</td>\n",
       "      <td>2020-03-13</td>\n",
       "      <td>0.885595</td>\n",
       "      <td>0.818726</td>\n",
       "    </tr>\n",
       "    <tr>\n",
       "      <td>20</td>\n",
       "      <td>2020-03-14</td>\n",
       "      <td>0.645988</td>\n",
       "      <td>0.901136</td>\n",
       "    </tr>\n",
       "    <tr>\n",
       "      <td>21</td>\n",
       "      <td>2020-03-15</td>\n",
       "      <td>0.79074</td>\n",
       "      <td>1</td>\n",
       "    </tr>\n",
       "  </tbody>\n",
       "</table>\n",
       "</div>"
      ],
      "text/plain": [
       "          date    tweets    CumSum\n",
       "17  2020-03-11  0.469868   0.58643\n",
       "18  2020-03-12         1   0.70908\n",
       "19  2020-03-13  0.885595  0.818726\n",
       "20  2020-03-14  0.645988  0.901136\n",
       "21  2020-03-15   0.79074         1"
      ]
     },
     "execution_count": 99,
     "metadata": {},
     "output_type": "execute_result"
    }
   ],
   "source": [
    "NormalizedDFPerDay.tail()"
   ]
  },
  {
   "cell_type": "markdown",
   "metadata": {},
   "source": [
    "#### Save as csv file"
   ]
  },
  {
   "cell_type": "code",
   "execution_count": 100,
   "metadata": {},
   "outputs": [],
   "source": [
    "NormalizedDFPerDay.to_csv('Data/NormalizedDFPerDay.csv')"
   ]
  },
  {
   "cell_type": "markdown",
   "metadata": {},
   "source": [
    "### Normalize tweets per hour"
   ]
  },
  {
   "cell_type": "code",
   "execution_count": 101,
   "metadata": {},
   "outputs": [],
   "source": [
    "NormalizedDFPerHour = normalize(TwitterCovPerHour[[\"datetime\",\"coronavirus\", \"CumSum\"]])"
   ]
  },
  {
   "cell_type": "code",
   "execution_count": 102,
   "metadata": {},
   "outputs": [
    {
     "data": {
      "text/html": [
       "<div>\n",
       "<style scoped>\n",
       "    .dataframe tbody tr th:only-of-type {\n",
       "        vertical-align: middle;\n",
       "    }\n",
       "\n",
       "    .dataframe tbody tr th {\n",
       "        vertical-align: top;\n",
       "    }\n",
       "\n",
       "    .dataframe thead th {\n",
       "        text-align: right;\n",
       "    }\n",
       "</style>\n",
       "<table border=\"1\" class=\"dataframe\">\n",
       "  <thead>\n",
       "    <tr style=\"text-align: right;\">\n",
       "      <th></th>\n",
       "      <th>datetime</th>\n",
       "      <th>coronavirus</th>\n",
       "      <th>CumSum</th>\n",
       "    </tr>\n",
       "  </thead>\n",
       "  <tbody>\n",
       "    <tr>\n",
       "      <td>0</td>\n",
       "      <td>2020-02-23 00:00:00</td>\n",
       "      <td>0.026226</td>\n",
       "      <td>0.000000</td>\n",
       "    </tr>\n",
       "    <tr>\n",
       "      <td>1</td>\n",
       "      <td>2020-02-23 01:00:00</td>\n",
       "      <td>0.010199</td>\n",
       "      <td>0.000127</td>\n",
       "    </tr>\n",
       "    <tr>\n",
       "      <td>2</td>\n",
       "      <td>2020-02-23 02:00:00</td>\n",
       "      <td>0.005828</td>\n",
       "      <td>0.000200</td>\n",
       "    </tr>\n",
       "    <tr>\n",
       "      <td>3</td>\n",
       "      <td>2020-02-23 03:00:00</td>\n",
       "      <td>0.005342</td>\n",
       "      <td>0.000266</td>\n",
       "    </tr>\n",
       "    <tr>\n",
       "      <td>4</td>\n",
       "      <td>2020-02-23 04:00:00</td>\n",
       "      <td>0.004857</td>\n",
       "      <td>0.000327</td>\n",
       "    </tr>\n",
       "    <tr>\n",
       "      <td>...</td>\n",
       "      <td>...</td>\n",
       "      <td>...</td>\n",
       "      <td>...</td>\n",
       "    </tr>\n",
       "    <tr>\n",
       "      <td>523</td>\n",
       "      <td>2020-03-15 19:00:00</td>\n",
       "      <td>0.572122</td>\n",
       "      <td>0.981883</td>\n",
       "    </tr>\n",
       "    <tr>\n",
       "      <td>524</td>\n",
       "      <td>2020-03-15 20:00:00</td>\n",
       "      <td>0.476445</td>\n",
       "      <td>0.987821</td>\n",
       "    </tr>\n",
       "    <tr>\n",
       "      <td>525</td>\n",
       "      <td>2020-03-15 21:00:00</td>\n",
       "      <td>0.358426</td>\n",
       "      <td>0.992289</td>\n",
       "    </tr>\n",
       "    <tr>\n",
       "      <td>526</td>\n",
       "      <td>2020-03-15 22:00:00</td>\n",
       "      <td>0.363769</td>\n",
       "      <td>0.996822</td>\n",
       "    </tr>\n",
       "    <tr>\n",
       "      <td>527</td>\n",
       "      <td>2020-03-15 23:00:00</td>\n",
       "      <td>0.254978</td>\n",
       "      <td>1.000000</td>\n",
       "    </tr>\n",
       "  </tbody>\n",
       "</table>\n",
       "<p>528 rows × 3 columns</p>\n",
       "</div>"
      ],
      "text/plain": [
       "               datetime  coronavirus    CumSum\n",
       "0   2020-02-23 00:00:00     0.026226  0.000000\n",
       "1   2020-02-23 01:00:00     0.010199  0.000127\n",
       "2   2020-02-23 02:00:00     0.005828  0.000200\n",
       "3   2020-02-23 03:00:00     0.005342  0.000266\n",
       "4   2020-02-23 04:00:00     0.004857  0.000327\n",
       "..                  ...          ...       ...\n",
       "523 2020-03-15 19:00:00     0.572122  0.981883\n",
       "524 2020-03-15 20:00:00     0.476445  0.987821\n",
       "525 2020-03-15 21:00:00     0.358426  0.992289\n",
       "526 2020-03-15 22:00:00     0.363769  0.996822\n",
       "527 2020-03-15 23:00:00     0.254978  1.000000\n",
       "\n",
       "[528 rows x 3 columns]"
      ]
     },
     "execution_count": 102,
     "metadata": {},
     "output_type": "execute_result"
    }
   ],
   "source": [
    "NormalizedDFPerHour"
   ]
  },
  {
   "cell_type": "markdown",
   "metadata": {},
   "source": [
    "#### Save as csv file"
   ]
  },
  {
   "cell_type": "code",
   "execution_count": 103,
   "metadata": {},
   "outputs": [],
   "source": [
    "NormalizedDFPerHour.to_csv('Data/NormalizedDFPerHour.csv')"
   ]
  },
  {
   "cell_type": "markdown",
   "metadata": {},
   "source": [
    "## New COVID-19 cases per day"
   ]
  },
  {
   "cell_type": "code",
   "execution_count": 104,
   "metadata": {},
   "outputs": [],
   "source": [
    "# new cases per day\n",
    "NewCasesPerDay = pd.DataFrame(columns = ['date','Netherlands','Europe', 'EU','Non-Europe','Worldwide'])\n",
    "\n",
    "for RowIndex in range(1,len(Cases)):\n",
    "    WorldWide = Cases.Worldwide.loc[RowIndex] - Cases.Worldwide.loc[RowIndex-1]\n",
    "    NonEurope = Cases[\"Non-Europe\"].loc[RowIndex] - Cases[\"Non-Europe\"].loc[RowIndex-1]\n",
    "    Eu = Cases.EU.loc[RowIndex] - Cases.EU.loc[RowIndex-1]\n",
    "    Europe = Cases.Europe.loc[RowIndex] - Cases.Europe.loc[RowIndex-1]\n",
    "    Netherlands = Cases.Netherlands.loc[RowIndex] - Cases.Netherlands.loc[RowIndex-1]\n",
    "    Date = Cases['index'].loc[RowIndex]\n",
    "    NewRow = [Date, Netherlands, Europe, Eu, NonEurope, WorldWide]\n",
    "    \n",
    "    NewCasesPerDay.loc[RowIndex] = NewRow"
   ]
  },
  {
   "cell_type": "code",
   "execution_count": 106,
   "metadata": {},
   "outputs": [
    {
     "data": {
      "text/html": [
       "<div>\n",
       "<style scoped>\n",
       "    .dataframe tbody tr th:only-of-type {\n",
       "        vertical-align: middle;\n",
       "    }\n",
       "\n",
       "    .dataframe tbody tr th {\n",
       "        vertical-align: top;\n",
       "    }\n",
       "\n",
       "    .dataframe thead th {\n",
       "        text-align: right;\n",
       "    }\n",
       "</style>\n",
       "<table border=\"1\" class=\"dataframe\">\n",
       "  <thead>\n",
       "    <tr style=\"text-align: right;\">\n",
       "      <th></th>\n",
       "      <th>date</th>\n",
       "      <th>Netherlands</th>\n",
       "      <th>Europe</th>\n",
       "      <th>EU</th>\n",
       "      <th>Non-Europe</th>\n",
       "      <th>Worldwide</th>\n",
       "    </tr>\n",
       "  </thead>\n",
       "  <tbody>\n",
       "    <tr>\n",
       "      <td>49</td>\n",
       "      <td>3/11/20</td>\n",
       "      <td>121</td>\n",
       "      <td>5020</td>\n",
       "      <td>4520</td>\n",
       "      <td>2253</td>\n",
       "      <td>7273</td>\n",
       "    </tr>\n",
       "    <tr>\n",
       "      <td>50</td>\n",
       "      <td>3/12/20</td>\n",
       "      <td>0</td>\n",
       "      <td>725</td>\n",
       "      <td>566</td>\n",
       "      <td>1753</td>\n",
       "      <td>2478</td>\n",
       "    </tr>\n",
       "    <tr>\n",
       "      <td>51</td>\n",
       "      <td>3/13/20</td>\n",
       "      <td>301</td>\n",
       "      <td>14078</td>\n",
       "      <td>12794</td>\n",
       "      <td>2772</td>\n",
       "      <td>16850</td>\n",
       "    </tr>\n",
       "    <tr>\n",
       "      <td>52</td>\n",
       "      <td>3/14/20</td>\n",
       "      <td>155</td>\n",
       "      <td>8165</td>\n",
       "      <td>7397</td>\n",
       "      <td>2739</td>\n",
       "      <td>10904</td>\n",
       "    </tr>\n",
       "    <tr>\n",
       "      <td>53</td>\n",
       "      <td>3/15/20</td>\n",
       "      <td>176</td>\n",
       "      <td>8343</td>\n",
       "      <td>7278</td>\n",
       "      <td>3009</td>\n",
       "      <td>11352</td>\n",
       "    </tr>\n",
       "  </tbody>\n",
       "</table>\n",
       "</div>"
      ],
      "text/plain": [
       "       date Netherlands Europe     EU Non-Europe Worldwide\n",
       "49  3/11/20         121   5020   4520       2253      7273\n",
       "50  3/12/20           0    725    566       1753      2478\n",
       "51  3/13/20         301  14078  12794       2772     16850\n",
       "52  3/14/20         155   8165   7397       2739     10904\n",
       "53  3/15/20         176   8343   7278       3009     11352"
      ]
     },
     "execution_count": 106,
     "metadata": {},
     "output_type": "execute_result"
    }
   ],
   "source": [
    "NewCasesPerDay.tail()"
   ]
  },
  {
   "cell_type": "markdown",
   "metadata": {},
   "source": [
    "#### Save as csv file"
   ]
  },
  {
   "cell_type": "code",
   "execution_count": 107,
   "metadata": {},
   "outputs": [],
   "source": [
    "NewCasesPerDay.to_csv('Data/NewCasesPerDay.csv')"
   ]
  }
 ],
 "metadata": {
  "kernelspec": {
   "display_name": "Python 3",
   "language": "python",
   "name": "python3"
  },
  "language_info": {
   "codemirror_mode": {
    "name": "ipython",
    "version": 3
   },
   "file_extension": ".py",
   "mimetype": "text/x-python",
   "name": "python",
   "nbconvert_exporter": "python",
   "pygments_lexer": "ipython3",
   "version": "3.7.4"
  }
 },
 "nbformat": 4,
 "nbformat_minor": 2
}
